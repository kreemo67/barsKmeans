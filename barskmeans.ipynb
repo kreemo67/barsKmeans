{
 "cells": [
  {
   "cell_type": "code",
   "execution_count": 1,
   "id": "bearing-yorkshire",
   "metadata": {},
   "outputs": [],
   "source": [
    "import pandas as pd\n",
    "import matplotlib\n",
    "import matplotlib.pyplot as plt\n",
    "import numpy as np\n",
    "import lxml\n",
    "import os\n",
    "import fnmatch\n",
    "import glob\n",
    "import random\n",
    "from bs4 import BeautifulSoup as Soup\n",
    "from lxml import etree\n",
    "from sklearn.cluster import KMeans "
   ]
  },
  {
   "cell_type": "code",
   "execution_count": null,
   "id": "physical-precipitation",
   "metadata": {},
   "outputs": [
    {
     "name": "stdout",
     "output_type": "stream",
     "text": [
      "Your folder path is\" /Users/KareemAbdo_1/Desktop/presavedMaps/preprocessedMaps \"\n",
      "Added:  Untitled map.kml\n",
      "Untitled map.kml\n",
      "1\n",
      "Added:  barsClubsHouston.kml\n",
      "barsClubsHouston.kml\n",
      "1\n"
     ]
    }
   ],
   "source": [
    "# a generalized function would look like...\n",
    "\n",
    "path = \"/Users/KareemAbdo_1/Desktop/presavedMaps\"\n",
    "files = os.listdir(path)\n",
    "kml_files = glob.glob('*.{}'.format('kml'))\n",
    "\n",
    "def kml_to_csv(map_kml):\n",
    "    with open(map_kml) as data:\n",
    "        kml_soup = Soup(data, 'lxml-xml') #parse as XML\n",
    "    coords = kml_soup.find_all('coordinates')#find all the coordinates\n",
    "    coords_list = []\n",
    "    for x in coords:\n",
    "        coords_list.append(str(x)) #store coordinates in a list\n",
    "\n",
    "    names = kml_soup.find_all('name') #find all coords\n",
    "    names_list = []\n",
    "    for x in names:\n",
    "        names_list.append(str(x))\n",
    "\n",
    "    #creating our dataframe\n",
    "    coord_col = ['Longitude','Latitude','Name']\n",
    "    df_coord = pd.DataFrame(columns = coord_col)\n",
    "    # split coordinates list into coordinates to populate the dataframe\n",
    "    for i, j in zip(range(len(coords_list)),range(2,len(names_list))):\n",
    "        item = coords_list[i]\n",
    "        string_split = item.split(',')\n",
    "        coord1 = float(string_split[0][17:])\n",
    "        coord2 = float(string_split[1])\n",
    "        coord3 = names_list[j][6:-7]\n",
    "        df_coord.loc[i] = [coord1, coord2, coord3]\n",
    "\n",
    "    #Creating kmeans instance for 3 clusters\n",
    "    kmeans_1 = KMeans(n_clusters=3)\n",
    "    #using fit_predict to cluster the dataset\n",
    "    X = df_coord[['Longitude', 'Latitude']].values\n",
    "    predictions = kmeans_1.fit_predict(X)\n",
    "\n",
    "    clustered = pd.concat([df_coord.reset_index(), pd.DataFrame({'Cluster':predictions})], axis=1)\n",
    "    clustered.drop('index',axis=1,inplace = True)\n",
    "\n",
    "    conditions = [\n",
    "        clustered['Cluster'] == 0,\n",
    "        clustered['Cluster'] == 1,\n",
    "        clustered['Cluster'] == 2\n",
    "    ]\n",
    "    choices = ['Night 1', 'Night 2','Night 3']\n",
    "    clustered['Night'] = np.select(conditions, choices, default='black')\n",
    "    clustered.sort_values(by=['Night']).to_csv('clustered_map{}.csv'.format(random.randint(1,100)))\n",
    "    \n",
    "\n",
    "path = \"/Users/KareemAbdo_1/Desktop/presavedMaps/preprocessedMaps\"    \n",
    "path_to_watch = path\n",
    "print('Your folder path is\"',path,'\"')\n",
    "before = dict ([(f, None) for f in os.listdir (path_to_watch)])\n",
    "while 1:\n",
    "        after = dict ([(f, None) for f in os.listdir (path_to_watch)])\n",
    "        added = [f for f in after if not f in before]\n",
    "        if added:\n",
    "                print(\"Added: \", \", \".join (added))\n",
    "                print(added[0])\n",
    "                if(fnmatch.fnmatch(added[0], '*.kml')):\n",
    "                    kml_to_csv(\"preprocessedMaps/\"+added[0])\n",
    "                    print(1)\n",
    "                before = after\n",
    "        else:\n",
    "             before = after\n",
    "\n",
    "    \n"
   ]
  },
  {
   "cell_type": "code",
   "execution_count": null,
   "id": "stupid-zambia",
   "metadata": {},
   "outputs": [],
   "source": [
    "df_coord"
   ]
  },
  {
   "cell_type": "code",
   "execution_count": null,
   "id": "thorough-carter",
   "metadata": {},
   "outputs": [],
   "source": [
    "fig = plt.figure(figsize=(16,8))\n",
    "cmap= plt.cm.rainbow\n",
    "norm = matplotlib.colors.BoundaryNorm(np.arange(0,10,1),cmap.N)\n",
    "plt.scatter(df_coord['Longitude'], df_coord['Latitude'], cmap=cmap, norm=norm, s=150, edgecolor='none')\n",
    "plt.xlabel('Latitude',fontsize = 18)\n",
    "plt.ylabel('Longitude', fontsize=18)\n",
    "plt.grid()\n",
    "plt.show()"
   ]
  },
  {
   "cell_type": "code",
   "execution_count": null,
   "id": "fossil-policy",
   "metadata": {},
   "outputs": [],
   "source": [
    "fig = plt.figure(figsize=(16,8))\n",
    "cmap=plt.cm.rainbow\n",
    "norm = matplotlib.colors.BoundaryNorm(np.arange(0,4,1), cmap.N)\n",
    "plt.scatter(clustered['Longitude'], clustered['Latitude'],c=clustered['Cluster'],\n",
    "           cmap = cmap, norm=norm, s=150, edgecolor='none')\n",
    "plt.colorbar(ticks=np.linspace(0,3,4))\n",
    "centers = kmeans_1.cluster_centers_\n",
    "plt.scatter(centers[:,0],centers[:,1], c='black', s=100, alpha=0.3);\n",
    "plt.xlabel('Latitude', fontsize=14)\n",
    "plt.ylabel('Longitude', fontsize=14)\n",
    "plt.title('k-means clustering results (3 clusters)', fontsize=14)\n",
    "plt.grid()\n",
    "plt.show()\n",
    "\n"
   ]
  },
  {
   "cell_type": "code",
   "execution_count": null,
   "id": "certain-chaos",
   "metadata": {},
   "outputs": [],
   "source": []
  }
 ],
 "metadata": {
  "kernelspec": {
   "display_name": "Python 3",
   "language": "python",
   "name": "python3"
  },
  "language_info": {
   "codemirror_mode": {
    "name": "ipython",
    "version": 3
   },
   "file_extension": ".py",
   "mimetype": "text/x-python",
   "name": "python",
   "nbconvert_exporter": "python",
   "pygments_lexer": "ipython3",
   "version": "3.7.1"
  }
 },
 "nbformat": 4,
 "nbformat_minor": 5
}
