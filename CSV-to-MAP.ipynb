{
 "cells": [
  {
   "cell_type": "code",
   "execution_count": null,
   "id": "reverse-collect",
   "metadata": {},
   "outputs": [
    {
     "name": "stdout",
     "output_type": "stream",
     "text": [
      "Your folder path is\" /Users/KareemAbdo_1/Desktop/presavedMaps \"\n",
      "Added:  clustered_map96.csv\n",
      "clustered_map96.csv\n",
      "1\n",
      "Added:  barsClubs_layered17.kml\n",
      "barsClubs_layered17.kml\n",
      "Added:  clustered_map43.csv\n",
      "clustered_map43.csv\n",
      "1\n",
      "Added:  barsClubs_layered93.kml\n",
      "barsClubs_layered93.kml\n",
      "Added:  .~barskmeans.ipynb\n",
      ".~barskmeans.ipynb\n"
     ]
    }
   ],
   "source": [
    "from collections import namedtuple\n",
    "import csv\n",
    "import pandas as pd\n",
    "import csv\n",
    "import simplekml\n",
    "import os\n",
    "import fnmatch\n",
    "import glob\n",
    "import random\n",
    "def csv_to_map(clustered_csv):\n",
    "    input_file = csv.reader(open(clustered_csv,'r'))\n",
    "    input_file_pd = pd.read_csv(clustered_csv, nrows=2)\n",
    "\n",
    "\n",
    "    init_folder = input_file_pd.iloc[1][5] #initializes first folder name\n",
    "\n",
    "    kml=simplekml.Kml()\n",
    "\n",
    "    for row in input_file:  #iterates through csv rows and creates layers and locations in kml\n",
    "        if(row[5] != init_folder):\n",
    "            if(row[5] != \"Day\"):\n",
    "                fol = kml.newfolder(name=row[5])\n",
    "        init_folder = row[5]\n",
    "        if(row[5] != \"Day\" and row[3] != \"Name\"):\n",
    "            pnt = fol.newpoint(name=row[3], coords=[(row[1],row[2])])\n",
    "\n",
    "\n",
    "    kml.save('barsClubs_layered{}.kml'.format(random.randint(1,100)))\n",
    "    \n",
    "\n",
    "path = \"/Users/KareemAbdo_1/Desktop/presavedMaps\"\n",
    "files = os.listdir(path)\n",
    "csv_files = glob.glob('*.{}'.format('csv'))\n",
    "finished_csv_files = []\n",
    "\n",
    "path_to_watch = path\n",
    "print('Your folder path is\"',path,'\"')\n",
    "before = dict ([(f, None) for f in os.listdir (path_to_watch)])\n",
    "while 1:\n",
    "        after = dict ([(f, None) for f in os.listdir (path_to_watch)])\n",
    "        added = [f for f in after if not f in before]\n",
    "        if added:\n",
    "                print(\"Added: \", \", \".join (added))\n",
    "                print(added[0])\n",
    "                if(fnmatch.fnmatch(added[0], '*.csv')):\n",
    "                    csv_to_map(added[0])\n",
    "                    print(1)\n",
    "                before = after\n",
    "        else:\n",
    "             before = after\n",
    "\n",
    "\n",
    "\n",
    "\n",
    "    \n",
    "    \n",
    "#for file in csv_files:\n",
    "#    csv_to_map(file)"
   ]
  },
  {
   "cell_type": "code",
   "execution_count": null,
   "id": "latest-table",
   "metadata": {},
   "outputs": [],
   "source": []
  },
  {
   "cell_type": "code",
   "execution_count": null,
   "id": "curious-birth",
   "metadata": {},
   "outputs": [],
   "source": []
  },
  {
   "cell_type": "code",
   "execution_count": null,
   "id": "starting-conference",
   "metadata": {},
   "outputs": [],
   "source": []
  }
 ],
 "metadata": {
  "kernelspec": {
   "display_name": "Python 3",
   "language": "python",
   "name": "python3"
  },
  "language_info": {
   "codemirror_mode": {
    "name": "ipython",
    "version": 3
   },
   "file_extension": ".py",
   "mimetype": "text/x-python",
   "name": "python",
   "nbconvert_exporter": "python",
   "pygments_lexer": "ipython3",
   "version": "3.7.1"
  }
 },
 "nbformat": 4,
 "nbformat_minor": 5
}
